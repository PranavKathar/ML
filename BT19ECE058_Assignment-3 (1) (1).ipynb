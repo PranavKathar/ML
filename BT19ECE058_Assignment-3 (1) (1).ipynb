{
 "cells": [
  {
   "cell_type": "code",
   "execution_count": 1,
   "metadata": {},
   "outputs": [
    {
     "data": {
      "text/plain": [
       "{'__header__': b'MATLAB 5.0 MAT-file, Platform: PCWIN64, Created on: Tue Aug 16 12:29:56 2022',\n",
       " '__version__': '1.0',\n",
       " '__globals__': [],\n",
       " 't': array([[1, 1, 1, 1, 1, 1, 1, 1, 1, 1, 1, 1, 1, 1, 1, 1, 1, 1, 1, 1, 1, 1,\n",
       "         1, 1, 1, 1, 1, 1, 1, 1, 1, 1, 1, 1, 1, 1, 1, 1, 1, 1, 1, 1, 1, 1,\n",
       "         1, 1, 1, 1, 1, 1, 1, 1, 1, 1, 1, 1, 1, 1, 1, 1, 1, 1, 1, 1, 1, 1,\n",
       "         1, 1, 1, 1, 1, 1, 1, 1, 1, 1, 1, 1, 1, 1, 1, 1, 1, 1, 1, 1, 1, 1,\n",
       "         1, 1, 1, 1, 1, 1, 1, 1, 1, 1, 1, 1, 1, 1, 1, 1, 1, 1, 1, 1, 1, 1,\n",
       "         1, 1, 1, 1, 1, 1, 1, 1, 1, 1, 1, 0, 0, 0, 0, 0, 0, 0, 0, 0, 0, 0,\n",
       "         0, 0, 0, 0, 0, 0, 0, 0, 0, 0, 0, 0, 0, 0, 0, 0, 0, 0, 0, 0, 0, 0,\n",
       "         0, 0, 0, 0, 0, 0, 0, 0, 0, 0, 0, 0, 0, 0, 0, 0, 0, 0, 0, 0, 0, 0,\n",
       "         0, 0, 0, 0, 0, 0, 0, 0, 0, 0, 0, 0, 0, 0, 0, 0, 0, 0, 0, 0, 0, 0,\n",
       "         0, 0, 0, 0, 0, 0, 0, 0, 0, 0, 0, 0, 0, 0, 0, 0, 0, 0],\n",
       "        [0, 0, 0, 0, 0, 0, 0, 0, 0, 0, 0, 0, 0, 0, 0, 0, 0, 0, 0, 0, 0, 0,\n",
       "         0, 0, 0, 0, 0, 0, 0, 0, 0, 0, 0, 0, 0, 0, 0, 0, 0, 0, 0, 0, 0, 0,\n",
       "         0, 0, 0, 0, 0, 0, 0, 0, 0, 0, 0, 0, 0, 0, 0, 0, 0, 0, 0, 0, 0, 0,\n",
       "         0, 0, 0, 0, 0, 0, 0, 0, 0, 0, 0, 0, 0, 0, 0, 0, 0, 0, 0, 0, 0, 0,\n",
       "         0, 0, 0, 0, 0, 0, 0, 0, 0, 0, 0, 0, 0, 0, 0, 0, 0, 0, 0, 0, 0, 0,\n",
       "         0, 0, 0, 0, 0, 0, 0, 0, 0, 0, 0, 1, 1, 1, 1, 1, 1, 1, 1, 1, 1, 1,\n",
       "         1, 1, 1, 1, 1, 1, 1, 1, 1, 1, 1, 1, 1, 1, 1, 1, 1, 1, 1, 1, 1, 1,\n",
       "         1, 1, 1, 1, 1, 1, 1, 1, 1, 1, 1, 1, 1, 1, 1, 1, 1, 1, 1, 1, 1, 1,\n",
       "         1, 1, 1, 1, 1, 1, 1, 1, 1, 1, 1, 1, 1, 1, 1, 1, 1, 1, 1, 1, 1, 1,\n",
       "         1, 1, 1, 1, 1, 1, 1, 1, 1, 1, 1, 1, 1, 1, 1, 1, 1, 1]],\n",
       "       dtype=uint8),\n",
       " 'x': array([[0.46290091, 0.37056537, 0.46155037, ..., 0.58252595, 0.63768441,\n",
       "         0.52859127],\n",
       "        [0.40673611, 0.30643103, 0.27898015, ..., 0.4498    , 0.49972172,\n",
       "         0.45315089],\n",
       "        [0.30621525, 0.23971475, 0.20660846, ..., 0.34488742, 0.33761557,\n",
       "         0.41943002],\n",
       "        ...,\n",
       "        [0.08009822, 0.23816822, 0.23361855, ..., 0.15979104, 0.13400809,\n",
       "         0.1597645 ],\n",
       "        [0.14462108, 0.18637254, 0.17546801, ..., 0.10701832, 0.1389127 ,\n",
       "         0.29903768],\n",
       "        [0.10640488, 0.12637318, 0.0999025 , ..., 0.17790702, 0.177601  ,\n",
       "         0.17012326]])}"
      ]
     },
     "execution_count": 1,
     "metadata": {},
     "output_type": "execute_result"
    }
   ],
   "source": [
    "import pandas as pd\n",
    "import scipy.io\n",
    "import numpy as np\n",
    "import random\n",
    "import matplotlib.pyplot as plt\n",
    "from sklearn.utils import shuffle\n",
    "\n",
    "path = 'C:\\\\Users\\\\91726\\\\Desktop\\\\Matlab_cancer.mat'\n",
    "\n",
    "mat = scipy.io.loadmat(path)\n",
    "mat"
   ]
  },
  {
   "cell_type": "code",
   "execution_count": 25,
   "metadata": {},
   "outputs": [
    {
     "data": {
      "text/plain": [
       "(100, 216)"
      ]
     },
     "execution_count": 25,
     "metadata": {},
     "output_type": "execute_result"
    }
   ],
   "source": [
    "labels = mat['t'][0]\n",
    "data = mat['x'].T\n",
    "labels = labels.reshape(labels.shape[0],1)\n",
    "\n"
   ]
  },
  {
   "cell_type": "code",
   "execution_count": 4,
   "metadata": {},
   "outputs": [],
   "source": [
    "# Hyper Parameters\n",
    "output_dim = 1\n",
    "batch_size = 10\n",
    "lr = 0.0001\n",
    "epochs = 20000"
   ]
  },
  {
   "cell_type": "code",
   "execution_count": 5,
   "metadata": {},
   "outputs": [],
   "source": [
    "# Shuffling the entire dataset\n",
    "indices = np.arange(data.shape[0])\n",
    "np.random.shuffle(indices)\n",
    "data = data[indices]\n",
    "labels = labels[indices]"
   ]
  },
  {
   "cell_type": "code",
   "execution_count": 6,
   "metadata": {},
   "outputs": [],
   "source": [
    "'''\n",
    "Dividing the data and labels into train and test sets.  \n",
    "Out of 216, 180 are in train set and 36 are in test set\n",
    "'''\n",
    "train_data = data[:180]\n",
    "test_data = data[180:]\n",
    "train_labels = labels[:180]\n",
    "test_labels = labels[180:]"
   ]
  },
  {
   "cell_type": "code",
   "execution_count": 7,
   "metadata": {},
   "outputs": [],
   "source": [
    "# Initialising weights and bias\n",
    "def initialize_weights_and_bias(data_size,output_dim):\n",
    "    W = np.random.randn(data_size, output_dim)*0.0001\n",
    "    b = 0\n",
    "    return W,b"
   ]
  },
  {
   "cell_type": "code",
   "execution_count": 8,
   "metadata": {},
   "outputs": [],
   "source": [
    "# forward propagation\n",
    "def forward_prop(X,W,B):\n",
    "    # Inputs to this function are train data(X) and weight matrix(W)\n",
    "    \n",
    "    Z = np.dot(X, W) + B # Multiplying data with weight ( Z = W.X + B )\n",
    "    y_pred = sigmoid(Z) # Applying activation to the Z\n",
    "    return y_pred,Z"
   ]
  },
  {
   "cell_type": "code",
   "execution_count": 9,
   "metadata": {},
   "outputs": [],
   "source": [
    "def sigmoid(Z):\n",
    "    act_Z = 1/(1 + np.exp(-Z))\n",
    "    return act_Z"
   ]
  },
  {
   "cell_type": "code",
   "execution_count": 10,
   "metadata": {},
   "outputs": [],
   "source": [
    "def loss_function(Y_pred,Y):\n",
    "    N = Y.shape[0]\n",
    "    cost = (1 / N) * np.sum(np.square(np.subtract(Y,Y_pred)))\n",
    "    return np.squeeze(cost)"
   ]
  },
  {
   "cell_type": "code",
   "execution_count": 11,
   "metadata": {},
   "outputs": [],
   "source": [
    "def backward_prop(X, Y, Y_pred,Z):\n",
    "    '''\n",
    "    Our loss function is MSE. And, we took single layer perceptron. Now, to calculate derivative\n",
    "    i.e, d(Y_pred)/dW = -2/N*(Y - Y_pred)*(d(Y_pred)/dZ)*(dZ/dW) \n",
    "\n",
    "    => d(Y_pred)/dW = -2/N*(Y - Y_pred)*( Y_pred*(1 - Y_pred) )*X\n",
    "    '''    \n",
    "    N = Y.shape[0]\n",
    "    dW = (-2/N)*np.dot(X,(Y-Y_pred)*(Y_pred*(1-Y_pred)))\n",
    "    return dW"
   ]
  },
  {
   "cell_type": "code",
   "execution_count": 12,
   "metadata": {},
   "outputs": [],
   "source": [
    "def train(X,Y):\n",
    "    loss = []\n",
    "    W,B = initialize_weights_and_bias(X.shape[1],Y.shape[1]) # initialise weights\n",
    "    for i in range(0,epochs):\n",
    "        y_pred,Z = forward_prop(X,W,B) # Forward propagation\n",
    "        J = loss_function(y_pred, Y) # Send the predicted Y values to loss function\n",
    "        loss.append(J) # Append the loss values in list (later, to plot it)\n",
    "        if i%1000 ==0:\n",
    "            # Print the loss value after every 1000 epoch to see how the loss is decreasing\n",
    "            print(\"Loss at epoch \"+str(i)+\" is:\",J)\n",
    "        dW = backward_prop(X.T, Y, y_pred,Z) # Backward propagation\n",
    "        W = W - lr*dW # Updating weights\n",
    "    return loss,W"
   ]
  },
  {
   "cell_type": "code",
   "execution_count": 13,
   "metadata": {},
   "outputs": [
    {
     "name": "stdout",
     "output_type": "stream",
     "text": [
      "Loss at epoch 0 is: 0.24988730436437037\n",
      "Loss at epoch 1000 is: 0.21601855360986197\n",
      "Loss at epoch 2000 is: 0.1921546947658153\n",
      "Loss at epoch 3000 is: 0.17516948404031701\n",
      "Loss at epoch 4000 is: 0.16268350854546548\n",
      "Loss at epoch 5000 is: 0.15317450766503216\n",
      "Loss at epoch 6000 is: 0.14570010011364692\n",
      "Loss at epoch 7000 is: 0.13966663903800589\n",
      "Loss at epoch 8000 is: 0.13468785568552827\n",
      "Loss at epoch 9000 is: 0.13050358200601941\n",
      "Loss at epoch 10000 is: 0.1269328186340984\n",
      "Loss at epoch 11000 is: 0.12384594214152975\n",
      "Loss at epoch 12000 is: 0.12114772477128391\n",
      "Loss at epoch 13000 is: 0.11876662763189524\n",
      "Loss at epoch 14000 is: 0.11664784544909768\n",
      "Loss at epoch 15000 is: 0.1147486631846016\n",
      "Loss at epoch 16000 is: 0.11303527835934696\n",
      "Loss at epoch 17000 is: 0.11148057732719577\n",
      "Loss at epoch 18000 is: 0.11006254750402276\n",
      "Loss at epoch 19000 is: 0.10876312292451856\n"
     ]
    }
   ],
   "source": [
    "loss_values = train(train_data,train_labels)"
   ]
  },
  {
   "cell_type": "code",
   "execution_count": 14,
   "metadata": {},
   "outputs": [],
   "source": [
    "# loss_values[0]"
   ]
  },
  {
   "cell_type": "code",
   "execution_count": 15,
   "metadata": {},
   "outputs": [
    {
     "data": {
      "image/png": "[encoded data removed]",
      "text/plain": [
       "<Figure size 432x288 with 1 Axes>"
      ]
     },
     "metadata": {
      "needs_background": "light"
     },
     "output_type": "display_data"
    }
   ],
   "source": [
    "# Plotting the loss values\n",
    "import matplotlib.pyplot as plt\n",
    "plt.plot(loss_values[0])\n",
    "plt.show()"
   ]
  },
  {
   "cell_type": "code",
   "execution_count": 16,
   "metadata": {},
   "outputs": [
    {
     "data": {
      "text/plain": [
       "(36, 1)"
      ]
     },
     "execution_count": 16,
     "metadata": {},
     "output_type": "execute_result"
    }
   ],
   "source": [
    "# Checking error and Accuracy on test set\n",
    "W,B = loss_values[1],0\n",
    "Acc = 0 # Initialise accuracy with 0\n",
    "Count = test_data.shape[0] # No of test samples\n",
    "\n",
    "'''\n",
    "Now, we fix the network (no more training) and pass the W,B and test data to forward_prop function\n",
    "to find the predicted test labels\n",
    "'''\n",
    "y_pred_test,Z_test = forward_prop(test_data,W,B) #\n",
    "\n",
    "\n",
    "# for i in range(0,len(test_data)):\n",
    "#     val = test_data[i]\n",
    "#     lab = test_labels[i]\n",
    "y_pred_test.shape"
   ]
  },
  {
   "cell_type": "code",
   "execution_count": 17,
   "metadata": {},
   "outputs": [],
   "source": [
    "# Finding the accuracy\n",
    "for i in range(0,len(y_pred_test)):\n",
    "    ''' \n",
    "    Round the predicted value to nearest integer\n",
    "    if y_pred_test > 0.5, then, it constitutes to 1 (which means cancer is there)\n",
    "    else if y_pred_test < 0.5, then, it constitues to 0 (No cancer)\n",
    "    '''\n",
    "    if round(y_pred_test[i][0]) == test_labels[i]:\n",
    "        Acc = Acc + 1"
   ]
  },
  {
   "cell_type": "code",
   "execution_count": 18,
   "metadata": {},
   "outputs": [
    {
     "data": {
      "text/plain": [
       "83.33333333333334"
      ]
     },
     "execution_count": 18,
     "metadata": {},
     "output_type": "execute_result"
    }
   ],
   "source": [
    "# Accuracy percentage\n",
    "(Acc/Count)*100"
   ]
  },
  {
   "cell_type": "code",
   "execution_count": null,
   "metadata": {},
   "outputs": [],
   "source": []
  },
  {
   "cell_type": "code",
   "execution_count": null,
   "metadata": {},
   "outputs": [],
   "source": []
  },
  {
   "cell_type": "code",
   "execution_count": null,
   "metadata": {},
   "outputs": [],
   "source": []
  },
  {
   "cell_type": "code",
   "execution_count": null,
   "metadata": {},
   "outputs": [],
   "source": []
  },
  {
   "cell_type": "code",
   "execution_count": null,
   "metadata": {},
   "outputs": [],
   "source": []
  },
  {
   "cell_type": "code",
   "execution_count": null,
   "metadata": {},
   "outputs": [],
   "source": []
  },
  {
   "cell_type": "code",
   "execution_count": null,
   "metadata": {},
   "outputs": [],
   "source": []
  },
  {
   "cell_type": "code",
   "execution_count": null,
   "metadata": {},
   "outputs": [],
   "source": []
  },
  {
   "cell_type": "code",
   "execution_count": null,
   "metadata": {},
   "outputs": [],
   "source": []
  }
 ],
 "metadata": {
  "kernelspec": {
   "display_name": "Python 3 (ipykernel)",
   "language": "python",
   "name": "python3"
  },
  "language_info": {
   "codemirror_mode": {
    "name": "ipython",
    "version": 3
   },
   "file_extension": ".py",
   "mimetype": "text/x-python",
   "name": "python",
   "nbconvert_exporter": "python",
   "pygments_lexer": "ipython3",
   "version": "3.9.12"
  }
 },
 "nbformat": 4,
 "nbformat_minor": 4
}
