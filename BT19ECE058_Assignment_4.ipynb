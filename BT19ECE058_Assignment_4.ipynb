{
 "cells": [
  {
   "cell_type": "code",
   "execution_count": 7,
   "metadata": {},
   "outputs": [
    {
     "data": {
      "text/plain": [
       "{'__header__': b'MATLAB 5.0 MAT-file, Platform: PCWIN64, Created on: Mon Aug 29 09:38:40 2022',\n",
       " '__version__': '1.0',\n",
       " '__globals__': [],\n",
       " 'meas': array([[5.1, 3.5, 1.4, 0.2],\n",
       "        [4.9, 3. , 1.4, 0.2],\n",
       "        [4.7, 3.2, 1.3, 0.2],\n",
       "        [4.6, 3.1, 1.5, 0.2],\n",
       "        [5. , 3.6, 1.4, 0.2],\n",
       "        [5.4, 3.9, 1.7, 0.4],\n",
       "        [4.6, 3.4, 1.4, 0.3],\n",
       "        [5. , 3.4, 1.5, 0.2],\n",
       "        [4.4, 2.9, 1.4, 0.2],\n",
       "        [4.9, 3.1, 1.5, 0.1],\n",
       "        [5.4, 3.7, 1.5, 0.2],\n",
       "        [4.8, 3.4, 1.6, 0.2],\n",
       "        [4.8, 3. , 1.4, 0.1],\n",
       "        [4.3, 3. , 1.1, 0.1],\n",
       "        [5.8, 4. , 1.2, 0.2],\n",
       "        [5.7, 4.4, 1.5, 0.4],\n",
       "        [5.4, 3.9, 1.3, 0.4],\n",
       "        [5.1, 3.5, 1.4, 0.3],\n",
       "        [5.7, 3.8, 1.7, 0.3],\n",
       "        [5.1, 3.8, 1.5, 0.3],\n",
       "        [5.4, 3.4, 1.7, 0.2],\n",
       "        [5.1, 3.7, 1.5, 0.4],\n",
       "        [4.6, 3.6, 1. , 0.2],\n",
       "        [5.1, 3.3, 1.7, 0.5],\n",
       "        [4.8, 3.4, 1.9, 0.2],\n",
       "        [5. , 3. , 1.6, 0.2],\n",
       "        [5. , 3.4, 1.6, 0.4],\n",
       "        [5.2, 3.5, 1.5, 0.2],\n",
       "        [5.2, 3.4, 1.4, 0.2],\n",
       "        [4.7, 3.2, 1.6, 0.2],\n",
       "        [4.8, 3.1, 1.6, 0.2],\n",
       "        [5.4, 3.4, 1.5, 0.4],\n",
       "        [5.2, 4.1, 1.5, 0.1],\n",
       "        [5.5, 4.2, 1.4, 0.2],\n",
       "        [4.9, 3.1, 1.5, 0.2],\n",
       "        [5. , 3.2, 1.2, 0.2],\n",
       "        [5.5, 3.5, 1.3, 0.2],\n",
       "        [4.9, 3.6, 1.4, 0.1],\n",
       "        [4.4, 3. , 1.3, 0.2],\n",
       "        [5.1, 3.4, 1.5, 0.2],\n",
       "        [5. , 3.5, 1.3, 0.3],\n",
       "        [4.5, 2.3, 1.3, 0.3],\n",
       "        [4.4, 3.2, 1.3, 0.2],\n",
       "        [5. , 3.5, 1.6, 0.6],\n",
       "        [5.1, 3.8, 1.9, 0.4],\n",
       "        [4.8, 3. , 1.4, 0.3],\n",
       "        [5.1, 3.8, 1.6, 0.2],\n",
       "        [4.6, 3.2, 1.4, 0.2],\n",
       "        [5.3, 3.7, 1.5, 0.2],\n",
       "        [5. , 3.3, 1.4, 0.2],\n",
       "        [7. , 3.2, 4.7, 1.4],\n",
       "        [6.4, 3.2, 4.5, 1.5],\n",
       "        [6.9, 3.1, 4.9, 1.5],\n",
       "        [5.5, 2.3, 4. , 1.3],\n",
       "        [6.5, 2.8, 4.6, 1.5],\n",
       "        [5.7, 2.8, 4.5, 1.3],\n",
       "        [6.3, 3.3, 4.7, 1.6],\n",
       "        [4.9, 2.4, 3.3, 1. ],\n",
       "        [6.6, 2.9, 4.6, 1.3],\n",
       "        [5.2, 2.7, 3.9, 1.4],\n",
       "        [5. , 2. , 3.5, 1. ],\n",
       "        [5.9, 3. , 4.2, 1.5],\n",
       "        [6. , 2.2, 4. , 1. ],\n",
       "        [6.1, 2.9, 4.7, 1.4],\n",
       "        [5.6, 2.9, 3.6, 1.3],\n",
       "        [6.7, 3.1, 4.4, 1.4],\n",
       "        [5.6, 3. , 4.5, 1.5],\n",
       "        [5.8, 2.7, 4.1, 1. ],\n",
       "        [6.2, 2.2, 4.5, 1.5],\n",
       "        [5.6, 2.5, 3.9, 1.1],\n",
       "        [5.9, 3.2, 4.8, 1.8],\n",
       "        [6.1, 2.8, 4. , 1.3],\n",
       "        [6.3, 2.5, 4.9, 1.5],\n",
       "        [6.1, 2.8, 4.7, 1.2],\n",
       "        [6.4, 2.9, 4.3, 1.3],\n",
       "        [6.6, 3. , 4.4, 1.4],\n",
       "        [6.8, 2.8, 4.8, 1.4],\n",
       "        [6.7, 3. , 5. , 1.7],\n",
       "        [6. , 2.9, 4.5, 1.5],\n",
       "        [5.7, 2.6, 3.5, 1. ],\n",
       "        [5.5, 2.4, 3.8, 1.1],\n",
       "        [5.5, 2.4, 3.7, 1. ],\n",
       "        [5.8, 2.7, 3.9, 1.2],\n",
       "        [6. , 2.7, 5.1, 1.6],\n",
       "        [5.4, 3. , 4.5, 1.5],\n",
       "        [6. , 3.4, 4.5, 1.6],\n",
       "        [6.7, 3.1, 4.7, 1.5],\n",
       "        [6.3, 2.3, 4.4, 1.3],\n",
       "        [5.6, 3. , 4.1, 1.3],\n",
       "        [5.5, 2.5, 4. , 1.3],\n",
       "        [5.5, 2.6, 4.4, 1.2],\n",
       "        [6.1, 3. , 4.6, 1.4],\n",
       "        [5.8, 2.6, 4. , 1.2],\n",
       "        [5. , 2.3, 3.3, 1. ],\n",
       "        [5.6, 2.7, 4.2, 1.3],\n",
       "        [5.7, 3. , 4.2, 1.2],\n",
       "        [5.7, 2.9, 4.2, 1.3],\n",
       "        [6.2, 2.9, 4.3, 1.3],\n",
       "        [5.1, 2.5, 3. , 1.1],\n",
       "        [5.7, 2.8, 4.1, 1.3],\n",
       "        [6.3, 3.3, 6. , 2.5],\n",
       "        [5.8, 2.7, 5.1, 1.9],\n",
       "        [7.1, 3. , 5.9, 2.1],\n",
       "        [6.3, 2.9, 5.6, 1.8],\n",
       "        [6.5, 3. , 5.8, 2.2],\n",
       "        [7.6, 3. , 6.6, 2.1],\n",
       "        [4.9, 2.5, 4.5, 1.7],\n",
       "        [7.3, 2.9, 6.3, 1.8],\n",
       "        [6.7, 2.5, 5.8, 1.8],\n",
       "        [7.2, 3.6, 6.1, 2.5],\n",
       "        [6.5, 3.2, 5.1, 2. ],\n",
       "        [6.4, 2.7, 5.3, 1.9],\n",
       "        [6.8, 3. , 5.5, 2.1],\n",
       "        [5.7, 2.5, 5. , 2. ],\n",
       "        [5.8, 2.8, 5.1, 2.4],\n",
       "        [6.4, 3.2, 5.3, 2.3],\n",
       "        [6.5, 3. , 5.5, 1.8],\n",
       "        [7.7, 3.8, 6.7, 2.2],\n",
       "        [7.7, 2.6, 6.9, 2.3],\n",
       "        [6. , 2.2, 5. , 1.5],\n",
       "        [6.9, 3.2, 5.7, 2.3],\n",
       "        [5.6, 2.8, 4.9, 2. ],\n",
       "        [7.7, 2.8, 6.7, 2. ],\n",
       "        [6.3, 2.7, 4.9, 1.8],\n",
       "        [6.7, 3.3, 5.7, 2.1],\n",
       "        [7.2, 3.2, 6. , 1.8],\n",
       "        [6.2, 2.8, 4.8, 1.8],\n",
       "        [6.1, 3. , 4.9, 1.8],\n",
       "        [6.4, 2.8, 5.6, 2.1],\n",
       "        [7.2, 3. , 5.8, 1.6],\n",
       "        [7.4, 2.8, 6.1, 1.9],\n",
       "        [7.9, 3.8, 6.4, 2. ],\n",
       "        [6.4, 2.8, 5.6, 2.2],\n",
       "        [6.3, 2.8, 5.1, 1.5],\n",
       "        [6.1, 2.6, 5.6, 1.4],\n",
       "        [7.7, 3. , 6.1, 2.3],\n",
       "        [6.3, 3.4, 5.6, 2.4],\n",
       "        [6.4, 3.1, 5.5, 1.8],\n",
       "        [6. , 3. , 4.8, 1.8],\n",
       "        [6.9, 3.1, 5.4, 2.1],\n",
       "        [6.7, 3.1, 5.6, 2.4],\n",
       "        [6.9, 3.1, 5.1, 2.3],\n",
       "        [5.8, 2.7, 5.1, 1.9],\n",
       "        [6.8, 3.2, 5.9, 2.3],\n",
       "        [6.7, 3.3, 5.7, 2.5],\n",
       "        [6.7, 3. , 5.2, 2.3],\n",
       "        [6.3, 2.5, 5. , 1.9],\n",
       "        [6.5, 3. , 5.2, 2. ],\n",
       "        [6.2, 3.4, 5.4, 2.3],\n",
       "        [5.9, 3. , 5.1, 1.8]]),\n",
       " 'species': array([[array(['setosa'], dtype='<U6')],\n",
       "        [array(['setosa'], dtype='<U6')],\n",
       "        [array(['setosa'], dtype='<U6')],\n",
       "        [array(['setosa'], dtype='<U6')],\n",
       "        [array(['setosa'], dtype='<U6')],\n",
       "        [array(['setosa'], dtype='<U6')],\n",
       "        [array(['setosa'], dtype='<U6')],\n",
       "        [array(['setosa'], dtype='<U6')],\n",
       "        [array(['setosa'], dtype='<U6')],\n",
       "        [array(['setosa'], dtype='<U6')],\n",
       "        [array(['setosa'], dtype='<U6')],\n",
       "        [array(['setosa'], dtype='<U6')],\n",
       "        [array(['setosa'], dtype='<U6')],\n",
       "        [array(['setosa'], dtype='<U6')],\n",
       "        [array(['setosa'], dtype='<U6')],\n",
       "        [array(['setosa'], dtype='<U6')],\n",
       "        [array(['setosa'], dtype='<U6')],\n",
       "        [array(['setosa'], dtype='<U6')],\n",
       "        [array(['setosa'], dtype='<U6')],\n",
       "        [array(['setosa'], dtype='<U6')],\n",
       "        [array(['setosa'], dtype='<U6')],\n",
       "        [array(['setosa'], dtype='<U6')],\n",
       "        [array(['setosa'], dtype='<U6')],\n",
       "        [array(['setosa'], dtype='<U6')],\n",
       "        [array(['setosa'], dtype='<U6')],\n",
       "        [array(['setosa'], dtype='<U6')],\n",
       "        [array(['setosa'], dtype='<U6')],\n",
       "        [array(['setosa'], dtype='<U6')],\n",
       "        [array(['setosa'], dtype='<U6')],\n",
       "        [array(['setosa'], dtype='<U6')],\n",
       "        [array(['setosa'], dtype='<U6')],\n",
       "        [array(['setosa'], dtype='<U6')],\n",
       "        [array(['setosa'], dtype='<U6')],\n",
       "        [array(['setosa'], dtype='<U6')],\n",
       "        [array(['setosa'], dtype='<U6')],\n",
       "        [array(['setosa'], dtype='<U6')],\n",
       "        [array(['setosa'], dtype='<U6')],\n",
       "        [array(['setosa'], dtype='<U6')],\n",
       "        [array(['setosa'], dtype='<U6')],\n",
       "        [array(['setosa'], dtype='<U6')],\n",
       "        [array(['setosa'], dtype='<U6')],\n",
       "        [array(['setosa'], dtype='<U6')],\n",
       "        [array(['setosa'], dtype='<U6')],\n",
       "        [array(['setosa'], dtype='<U6')],\n",
       "        [array(['setosa'], dtype='<U6')],\n",
       "        [array(['setosa'], dtype='<U6')],\n",
       "        [array(['setosa'], dtype='<U6')],\n",
       "        [array(['setosa'], dtype='<U6')],\n",
       "        [array(['setosa'], dtype='<U6')],\n",
       "        [array(['setosa'], dtype='<U6')],\n",
       "        [array(['versicolor'], dtype='<U10')],\n",
       "        [array(['versicolor'], dtype='<U10')],\n",
       "        [array(['versicolor'], dtype='<U10')],\n",
       "        [array(['versicolor'], dtype='<U10')],\n",
       "        [array(['versicolor'], dtype='<U10')],\n",
       "        [array(['versicolor'], dtype='<U10')],\n",
       "        [array(['versicolor'], dtype='<U10')],\n",
       "        [array(['versicolor'], dtype='<U10')],\n",
       "        [array(['versicolor'], dtype='<U10')],\n",
       "        [array(['versicolor'], dtype='<U10')],\n",
       "        [array(['versicolor'], dtype='<U10')],\n",
       "        [array(['versicolor'], dtype='<U10')],\n",
       "        [array(['versicolor'], dtype='<U10')],\n",
       "        [array(['versicolor'], dtype='<U10')],\n",
       "        [array(['versicolor'], dtype='<U10')],\n",
       "        [array(['versicolor'], dtype='<U10')],\n",
       "        [array(['versicolor'], dtype='<U10')],\n",
       "        [array(['versicolor'], dtype='<U10')],\n",
       "        [array(['versicolor'], dtype='<U10')],\n",
       "        [array(['versicolor'], dtype='<U10')],\n",
       "        [array(['versicolor'], dtype='<U10')],\n",
       "        [array(['versicolor'], dtype='<U10')],\n",
       "        [array(['versicolor'], dtype='<U10')],\n",
       "        [array(['versicolor'], dtype='<U10')],\n",
       "        [array(['versicolor'], dtype='<U10')],\n",
       "        [array(['versicolor'], dtype='<U10')],\n",
       "        [array(['versicolor'], dtype='<U10')],\n",
       "        [array(['versicolor'], dtype='<U10')],\n",
       "        [array(['versicolor'], dtype='<U10')],\n",
       "        [array(['versicolor'], dtype='<U10')],\n",
       "        [array(['versicolor'], dtype='<U10')],\n",
       "        [array(['versicolor'], dtype='<U10')],\n",
       "        [array(['versicolor'], dtype='<U10')],\n",
       "        [array(['versicolor'], dtype='<U10')],\n",
       "        [array(['versicolor'], dtype='<U10')],\n",
       "        [array(['versicolor'], dtype='<U10')],\n",
       "        [array(['versicolor'], dtype='<U10')],\n",
       "        [array(['versicolor'], dtype='<U10')],\n",
       "        [array(['versicolor'], dtype='<U10')],\n",
       "        [array(['versicolor'], dtype='<U10')],\n",
       "        [array(['versicolor'], dtype='<U10')],\n",
       "        [array(['versicolor'], dtype='<U10')],\n",
       "        [array(['versicolor'], dtype='<U10')],\n",
       "        [array(['versicolor'], dtype='<U10')],\n",
       "        [array(['versicolor'], dtype='<U10')],\n",
       "        [array(['versicolor'], dtype='<U10')],\n",
       "        [array(['versicolor'], dtype='<U10')],\n",
       "        [array(['versicolor'], dtype='<U10')],\n",
       "        [array(['versicolor'], dtype='<U10')],\n",
       "        [array(['versicolor'], dtype='<U10')],\n",
       "        [array(['virginica'], dtype='<U9')],\n",
       "        [array(['virginica'], dtype='<U9')],\n",
       "        [array(['virginica'], dtype='<U9')],\n",
       "        [array(['virginica'], dtype='<U9')],\n",
       "        [array(['virginica'], dtype='<U9')],\n",
       "        [array(['virginica'], dtype='<U9')],\n",
       "        [array(['virginica'], dtype='<U9')],\n",
       "        [array(['virginica'], dtype='<U9')],\n",
       "        [array(['virginica'], dtype='<U9')],\n",
       "        [array(['virginica'], dtype='<U9')],\n",
       "        [array(['virginica'], dtype='<U9')],\n",
       "        [array(['virginica'], dtype='<U9')],\n",
       "        [array(['virginica'], dtype='<U9')],\n",
       "        [array(['virginica'], dtype='<U9')],\n",
       "        [array(['virginica'], dtype='<U9')],\n",
       "        [array(['virginica'], dtype='<U9')],\n",
       "        [array(['virginica'], dtype='<U9')],\n",
       "        [array(['virginica'], dtype='<U9')],\n",
       "        [array(['virginica'], dtype='<U9')],\n",
       "        [array(['virginica'], dtype='<U9')],\n",
       "        [array(['virginica'], dtype='<U9')],\n",
       "        [array(['virginica'], dtype='<U9')],\n",
       "        [array(['virginica'], dtype='<U9')],\n",
       "        [array(['virginica'], dtype='<U9')],\n",
       "        [array(['virginica'], dtype='<U9')],\n",
       "        [array(['virginica'], dtype='<U9')],\n",
       "        [array(['virginica'], dtype='<U9')],\n",
       "        [array(['virginica'], dtype='<U9')],\n",
       "        [array(['virginica'], dtype='<U9')],\n",
       "        [array(['virginica'], dtype='<U9')],\n",
       "        [array(['virginica'], dtype='<U9')],\n",
       "        [array(['virginica'], dtype='<U9')],\n",
       "        [array(['virginica'], dtype='<U9')],\n",
       "        [array(['virginica'], dtype='<U9')],\n",
       "        [array(['virginica'], dtype='<U9')],\n",
       "        [array(['virginica'], dtype='<U9')],\n",
       "        [array(['virginica'], dtype='<U9')],\n",
       "        [array(['virginica'], dtype='<U9')],\n",
       "        [array(['virginica'], dtype='<U9')],\n",
       "        [array(['virginica'], dtype='<U9')],\n",
       "        [array(['virginica'], dtype='<U9')],\n",
       "        [array(['virginica'], dtype='<U9')],\n",
       "        [array(['virginica'], dtype='<U9')],\n",
       "        [array(['virginica'], dtype='<U9')],\n",
       "        [array(['virginica'], dtype='<U9')],\n",
       "        [array(['virginica'], dtype='<U9')],\n",
       "        [array(['virginica'], dtype='<U9')],\n",
       "        [array(['virginica'], dtype='<U9')],\n",
       "        [array(['virginica'], dtype='<U9')],\n",
       "        [array(['virginica'], dtype='<U9')]], dtype=object)}"
      ]
     },
     "execution_count": 7,
     "metadata": {},
     "output_type": "execute_result"
    }
   ],
   "source": [
    "import pandas as pd\n",
    "import scipy.io\n",
    "import numpy as np\n",
    "import random\n",
    "import matplotlib.pyplot as plt\n",
    "from sklearn.utils import shuffle\n",
    "from sklearn import svm, datasets\n",
    "from sklearn.svm import SVC\n",
    "\n",
    "path = 'C:\\\\Users\\\\91726\\\\Desktop\\\\fisheriris_matlab.mat'\n",
    "# fisheriris_matlab.mat\n",
    "mat = scipy.io.loadmat(path)\n",
    "mat\n",
    "\n"
   ]
  },
  {
   "cell_type": "code",
   "execution_count": 8,
   "metadata": {},
   "outputs": [],
   "source": [
    "data = mat['meas']\n",
    "labels = mat['species']\n",
    "indices = np.arange(data.shape[0])\n",
    "np.random.shuffle(indices)\n",
    "data = data[indices]\n",
    "labels = labels[indices]"
   ]
  },
  {
   "cell_type": "code",
   "execution_count": 9,
   "metadata": {},
   "outputs": [],
   "source": [
    "labels_set = []"
   ]
  },
  {
   "cell_type": "code",
   "execution_count": 10,
   "metadata": {},
   "outputs": [],
   "source": [
    "for i in range(0,len(labels)):\n",
    "    if labels[i][0][0] == 'setosa':\n",
    "        labels_set.append(0)\n",
    "    elif labels[i][0][0] == 'versicolor':\n",
    "        labels_set.append(1)\n",
    "    elif labels[i][0][0] == 'virginica':\n",
    "        labels_set.append(2)"
   ]
  },
  {
   "cell_type": "code",
   "execution_count": 11,
   "metadata": {},
   "outputs": [],
   "source": [
    "labels_set = np.array(labels_set)"
   ]
  },
  {
   "cell_type": "code",
   "execution_count": 12,
   "metadata": {},
   "outputs": [],
   "source": [
    "train_data = data[:120]\n",
    "train_labels = labels_set[:120]\n",
    "test_data = data[120:]\n",
    "test_labels = labels_set[120:]"
   ]
  },
  {
   "cell_type": "code",
   "execution_count": 13,
   "metadata": {},
   "outputs": [
    {
     "data": {
      "text/plain": [
       "96.66666666666667"
      ]
     },
     "execution_count": 13,
     "metadata": {},
     "output_type": "execute_result"
    }
   ],
   "source": [
    "# No Hyperparameters in Linear\n",
    "svc_linear = SVC(kernel='linear').fit(train_data,train_labels)\n",
    "test_predict = svc_linear.predict(test_data)\n",
    "Acc = 0\n",
    "for i in range(0,len(test_labels)):\n",
    "    if test_labels[i] == test_predict[i]:\n",
    "        Acc = Acc + 1\n",
    "(Acc/len(test_labels))*100"
   ]
  },
  {
   "cell_type": "code",
   "execution_count": 14,
   "metadata": {},
   "outputs": [
    {
     "data": {
      "text/plain": [
       "(array([0.25, 0.5 , 0.75, 1.  ]), array([0.1, 0.4, 0.7, 1. ]))"
      ]
     },
     "execution_count": 14,
     "metadata": {},
     "output_type": "execute_result"
    }
   ],
   "source": [
    "gamma = np.linspace(0.1,1,4)\n",
    "C = np.linspace(0.25,1,4)\n",
    "C,gamma"
   ]
  },
  {
   "cell_type": "code",
   "execution_count": 15,
   "metadata": {},
   "outputs": [],
   "source": [
    "# c and gamma are the hyperparameters\n",
    "gamma_list = []\n",
    "C_list = []\n",
    "Acc_list = []\n",
    "for i in gamma:\n",
    "    for c in C:\n",
    "        C_list.append(c)\n",
    "        gamma_list.append(i)\n",
    "        svc_rbf = svm.SVC(kernel='rbf', gamma=i, C=c).fit(train_data, train_labels)\n",
    "        test_predict_rbf = svc_rbf.predict(test_data)\n",
    "        Acc_rbf = 0\n",
    "        for j in range(0,len(test_labels)):\n",
    "            if test_labels[j] == test_predict_rbf[j]:\n",
    "                Acc_rbf = Acc_rbf + 1\n",
    "        Acc_list.append((Acc_rbf/len(test_labels))*100)"
   ]
  },
  {
   "cell_type": "code",
   "execution_count": 16,
   "metadata": {},
   "outputs": [],
   "source": [
    "dict_val1 = {}\n",
    "dict_val1['gamma'] = gamma_list\n",
    "dict_val1['C'] = C_list\n",
    "dict_val1['Accuracy'] = Acc_list"
   ]
  },
  {
   "cell_type": "code",
   "execution_count": 17,
   "metadata": {},
   "outputs": [],
   "source": [
    "# dict_val1"
   ]
  },
  {
   "cell_type": "code",
   "execution_count": 18,
   "metadata": {},
   "outputs": [
    {
     "data": {
      "image/png": "[encoded data removed]",
      "text/plain": [
       "<Figure size 432x288 with 1 Axes>"
      ]
     },
     "metadata": {
      "needs_background": "light"
     },
     "output_type": "display_data"
    }
   ],
   "source": [
    "df1 = pd.DataFrame(dict_val1)\n",
    "\n",
    "gamma = set(df1['gamma'])\n",
    "\n",
    "plt.figure()\n",
    "for g in gamma:\n",
    "    selected_data1 = df1.loc[df1['gamma'] == g]\n",
    "    plt.xlabel('C Value (SVM Regularisation factor)')\n",
    "    plt.ylabel('Accuracy')\n",
    "    plt.plot(selected_data1['C'], selected_data1['Accuracy'], label=g)\n",
    "     \n",
    "plt.legend(title = \"Gamma Value\")\n",
    "plt.show()"
   ]
  },
  {
   "cell_type": "code",
   "execution_count": null,
   "metadata": {},
   "outputs": [],
   "source": []
  },
  {
   "cell_type": "code",
   "execution_count": null,
   "metadata": {},
   "outputs": [],
   "source": []
  },
  {
   "cell_type": "code",
   "execution_count": 19,
   "metadata": {},
   "outputs": [],
   "source": [
    "deg = np.linspace(1,7,4)"
   ]
  },
  {
   "cell_type": "code",
   "execution_count": 20,
   "metadata": {},
   "outputs": [],
   "source": [
    "# i and c are hyperparameters\n",
    "degree_list = []\n",
    "C_list = []\n",
    "Acc_list = []\n",
    "for j in deg:\n",
    "    for c in C:\n",
    "        C_list.append(c)\n",
    "        degree_list.append(j)\n",
    "        svc_poly = svm.SVC(kernel='poly', degree=int(j), C=c).fit(train_data, train_labels)\n",
    "        test_predict_poly = svc_poly.predict(test_data)\n",
    "        Acc_poly = 0\n",
    "        for i in range(0,len(test_labels)):\n",
    "            if test_labels[i] == test_predict_poly[i]:\n",
    "                Acc_poly = Acc_poly + 1\n",
    "        Acc_list.append((Acc_poly/len(test_labels))*100)"
   ]
  },
  {
   "cell_type": "code",
   "execution_count": 21,
   "metadata": {},
   "outputs": [],
   "source": [
    "dict_val = {}\n",
    "dict_val['degree'] = degree_list\n",
    "dict_val['C'] = C_list\n",
    "dict_val['Accuracy'] = Acc_list"
   ]
  },
  {
   "cell_type": "code",
   "execution_count": 22,
   "metadata": {},
   "outputs": [],
   "source": [
    "# dict_val"
   ]
  },
  {
   "cell_type": "code",
   "execution_count": null,
   "metadata": {},
   "outputs": [],
   "source": []
  },
  {
   "cell_type": "code",
   "execution_count": 23,
   "metadata": {},
   "outputs": [
    {
     "data": {
      "image/png": "[encoded data removed]",
      "text/plain": [
       "<Figure size 432x288 with 1 Axes>"
      ]
     },
     "metadata": {
      "needs_background": "light"
     },
     "output_type": "display_data"
    }
   ],
   "source": [
    "df = pd.DataFrame(dict_val)\n",
    "\n",
    "degre = set(df['degree'])\n",
    "\n",
    "plt.figure()\n",
    "for deg in degre:\n",
    "    selected_data1 = df.loc[df['degree'] == deg]\n",
    "#     print(selected_data)\n",
    "    plt.xlabel('C Value (SVM Regularisation factor)')\n",
    "    plt.ylabel('Accuracy')\n",
    "    plt.plot(selected_data1['C'], selected_data1['Accuracy'], label=deg)\n",
    "     \n",
    "plt.legend(title = \"Degree Value\")\n",
    "plt.show()"
   ]
  },
  {
   "cell_type": "code",
   "execution_count": 24,
   "metadata": {},
   "outputs": [],
   "source": [
    "train_pred_linear = svc_linear.predict(train_data)\n",
    "test_pred_linear = svc_linear.predict(test_data)"
   ]
  },
  {
   "cell_type": "code",
   "execution_count": null,
   "metadata": {},
   "outputs": [],
   "source": []
  },
  {
   "cell_type": "code",
   "execution_count": null,
   "metadata": {},
   "outputs": [],
   "source": []
  },
  {
   "cell_type": "code",
   "execution_count": 85,
   "metadata": {},
   "outputs": [],
   "source": []
  },
  {
   "cell_type": "code",
   "execution_count": 88,
   "metadata": {},
   "outputs": [
    {
     "data": {
      "text/plain": [
       "(0.9620253164556962, 1.0)"
      ]
     },
     "execution_count": 88,
     "metadata": {},
     "output_type": "execute_result"
    }
   ],
   "source": []
  },
  {
   "cell_type": "code",
   "execution_count": 66,
   "metadata": {},
   "outputs": [],
   "source": []
  },
  {
   "cell_type": "code",
   "execution_count": 67,
   "metadata": {},
   "outputs": [
    {
     "data": {
      "text/plain": [
       "(1.0, 1.0)"
      ]
     },
     "execution_count": 67,
     "metadata": {},
     "output_type": "execute_result"
    }
   ],
   "source": [
    "TP1,TP2"
   ]
  },
  {
   "cell_type": "code",
   "execution_count": 43,
   "metadata": {},
   "outputs": [
    {
     "data": {
      "text/plain": [
       "120"
      ]
     },
     "execution_count": 43,
     "metadata": {},
     "output_type": "execute_result"
    }
   ],
   "source": [
    "len(train_labels)"
   ]
  },
  {
   "cell_type": "code",
   "execution_count": null,
   "metadata": {},
   "outputs": [],
   "source": []
  },
  {
   "cell_type": "code",
   "execution_count": null,
   "metadata": {},
   "outputs": [],
   "source": []
  }
 ],
 "metadata": {
  "kernelspec": {
   "display_name": "Python 3 (ipykernel)",
   "language": "python",
   "name": "python3"
  },
  "language_info": {
   "codemirror_mode": {
    "name": "ipython",
    "version": 3
   },
   "file_extension": ".py",
   "mimetype": "text/x-python",
   "name": "python",
   "nbconvert_exporter": "python",
   "pygments_lexer": "ipython3",
   "version": "3.9.12"
  }
 },
 "nbformat": 4,
 "nbformat_minor": 4
}
